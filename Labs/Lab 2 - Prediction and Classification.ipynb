{
 "cells": [
  {
   "cell_type": "markdown",
   "metadata": {},
   "source": [
    "# Lab 2 - Prediction and Classification\n",
    "## CAP 5771 - Principles of Data Mining\n",
    "### Professor: Miguel Alonso Jr."
   ]
  },
  {
   "cell_type": "markdown",
   "metadata": {},
   "source": [
    "## Instructions\n",
    "\n",
    "Please complete this lab assignment. Follow along carefully and answer all questions. Coding tasks should be coded inline within the jupyter notebook. No additional files are need or accepted unless otherwise noted. All data files can be found in the data folder on the github repo. Please read the contents of each section, as well as the comments in each cell. Add your code where it says 'Insert your code here'. Also, please be sure to answer any questions inline in markdown."
   ]
  },
  {
   "cell_type": "markdown",
   "metadata": {},
   "source": [
    "## Objectives\n",
    "\n",
    "The data was extracted from the 1974 Motor Trend US magazine, and comprises fuel consumption and 10 aspects of automobile design and performance for 32 automobiles (1973–74 models). It contains 32 observations and 11 variables. A description of the variables is as follows:\n",
    "- mpg: Miles/(US) gallon\n",
    "- cyl: Number of cylinders\n",
    "- disp: Displacement (cu.in.)\n",
    "- hp: Gross horsepower\n",
    "- drat: Rear axle ratio\n",
    "- wt: Weight (1000 lbs)\n",
    "- qsec: 1/4 mile time\n",
    "- vs: Engine shape: (0 = V-shape, 1 = straight)\n",
    "- am: Transmission (0 = automatic, 1 = manual)\n",
    "- gear: Number of forward gears\n",
    "- carb: Number of carburetors\n",
    "\n",
    "The objectives of this lab are to a) build a set of different regression models to predict the MPG given a set of features and 2) build a set of different classification models to classify cars into high-efficiency or low-efficiency vehicles.\n",
    "\n",
    "By the end of this lab, you should be able to:\n",
    "\n",
    "1. Build a regression model for prediction miles per gallon of the Motor Trends Car Roadtest Dataset\n",
    "2. Build a classification model for classifying cars as high-efficient or low-efficient\n",
    "3. Determine the important features used to classify cars into efficiency categories"
   ]
  },
  {
   "cell_type": "markdown",
   "metadata": {},
   "source": [
    "## Part 1: Regression\n",
    "### Part 1a: Simple linear regression\n",
    "\n",
    "For this part of lab 2, you will build a simple linear regression using both statsmodels and sklearn, using Motor Trend US Magazine dataset. Select one feature from the dataset to use as the input to the model in order to predict the miles per gallon. Be sure to split your dataset into a training and testing dataset. "
   ]
  },
  {
   "cell_type": "code",
   "execution_count": 3,
   "metadata": {},
   "outputs": [],
   "source": [
    "## import the required packages\n",
    "\n",
    "####### \n",
    "#   Insert your code\n",
    "#######"
   ]
  },
  {
   "cell_type": "code",
   "execution_count": 4,
   "metadata": {},
   "outputs": [],
   "source": [
    "# load the motor trends car dataset. the dataset file is located in the data folder.\n",
    "# it is called 'mtcdata.csv'\n",
    "\n",
    "####### \n",
    "#   Insert your code\n",
    "#######"
   ]
  },
  {
   "cell_type": "code",
   "execution_count": null,
   "metadata": {},
   "outputs": [],
   "source": [
    "# split the dataset into a training and testing dataset\n",
    "\n",
    "####### \n",
    "#   Insert your code\n",
    "#######"
   ]
  },
  {
   "cell_type": "code",
   "execution_count": 5,
   "metadata": {},
   "outputs": [],
   "source": [
    "# build a linear model using statsmodels \n",
    "\n",
    "####### \n",
    "#   Insert your code\n",
    "#######"
   ]
  },
  {
   "cell_type": "code",
   "execution_count": 6,
   "metadata": {},
   "outputs": [],
   "source": [
    "# build a linear model using sklearn \n",
    "\n",
    "####### \n",
    "#   Insert your code\n",
    "#######"
   ]
  },
  {
   "cell_type": "code",
   "execution_count": null,
   "metadata": {},
   "outputs": [],
   "source": [
    "# plot the testing set as a scatter plot, along with the lines for each of the linear models, one from \n",
    "# statsmodels, and one from sklearn. be sure to add labels to the x and y axis, as well as,\n",
    "# a legend. also, be sure to print out the mean square error for each model on the testing set."
   ]
  },
  {
   "cell_type": "markdown",
   "metadata": {},
   "source": [
    "How do the models compare? In other words, take a look at the coefficients and intercept of the model. How far off are they from each other? Is there another feature that may be better for predicting miles per gallon? How does the performance of the models on the testing set improve by using this feature? By using both features?"
   ]
  },
  {
   "cell_type": "markdown",
   "metadata": {},
   "source": [
    "### Part 1b: Complex model regression: Random Forest Regression, SVM Regression, ANN Regression, Gradient Boosted Decision Tree Regression\n",
    "\n",
    "Repeat the exercise for part 1a, but using the following forms of regession:\n",
    "- Random Forest Regression\n",
    "- SVM Regression\n",
    "- ANN Regression\n",
    "- Gradient Boosted Decision Tree Regression\n",
    "\n",
    "You can read more about these types of regression models from the sklearn documentation [here.](https://scikit-learn.org/stable/supervised_learning.html#supervised-learning)\n",
    "\n",
    "How do the results compare based on MSE on the testing data?"
   ]
  },
  {
   "cell_type": "code",
   "execution_count": 7,
   "metadata": {},
   "outputs": [],
   "source": [
    "# build a random forest regression, SVM regression, ANN regression, Gradient Boosted Decision Tree Regression \n",
    "\n",
    "####### \n",
    "#   Insert your code\n",
    "#######"
   ]
  },
  {
   "cell_type": "markdown",
   "metadata": {},
   "source": [
    "## Part 2: Classification\n",
    "\n",
    "For part 2 of the lab, we will explore different classification techniques. First, however, we need to add labels to the dataset.\n",
    "\n",
    "### Part 2a: Adding labels\n",
    "\n",
    "Add a column to the motor trend car dataset that is called 'efficiency'. This will be a binary attribute, with a 0 indicating low-efficiency (those cars that have a MPG rating of less than 20 MPG) and a 1 indicating high-efficiency (those cars that have a MPG rating of greater than or equal to 20 MPG). You can do this in pandas, using the apply function and a lambda. See this [link](https://www.geeksforgeeks.org/create-a-new-column-in-pandas-dataframe-based-on-the-existing-columns/) for an example."
   ]
  },
  {
   "cell_type": "code",
   "execution_count": 8,
   "metadata": {},
   "outputs": [],
   "source": [
    "# add efficiency labels to the dataset\n",
    "\n",
    "####### \n",
    "#   Insert your code\n",
    "#######"
   ]
  },
  {
   "cell_type": "markdown",
   "metadata": {},
   "source": [
    "### Part 2b: Logistic Regression\n",
    "\n",
    "Using sklearn, build a logistic regression model and train it on the data (Be sure to split your dataset into training and testing as before). You can use the same features as before, or choose new features, or use all of them! What is the final accuracy of the trained model when predicting efficiency on the testing dataset? What are your type I and type II errors? Additionally, please be sure to plot the [confusion matrix](https://scikit-learn.org/stable/modules/generated/sklearn.metrics.confusion_matrix.html), as well as the [ROC-AUC curve](https://scikit-learn.org/stable/auto_examples/model_selection/plot_roc.html)."
   ]
  },
  {
   "cell_type": "code",
   "execution_count": null,
   "metadata": {},
   "outputs": [],
   "source": [
    "# build a logistic regression classifier\n",
    "\n",
    "####### \n",
    "#   Insert your code\n",
    "#######"
   ]
  },
  {
   "cell_type": "markdown",
   "metadata": {},
   "source": [
    "### Part 2c: Random Forest Classification vs GBDT\n",
    "\n",
    "Repeat part 2b, but using a [random forest classifier](https://scikit-learn.org/stable/modules/ensemble.html#forests-of-randomized-trees) and a [gradient boosted decision tree classifier](https://scikit-learn.org/stable/modules/ensemble.html#gradient-tree-boosting). Repeat the analysis and answer the same questions from part 2b."
   ]
  },
  {
   "cell_type": "code",
   "execution_count": 9,
   "metadata": {},
   "outputs": [],
   "source": [
    "# build a random forest classifier and a GBDT classifier using sklearn\n",
    "\n",
    "####### \n",
    "#   Insert your code\n",
    "#######"
   ]
  }
 ],
 "metadata": {
  "kernelspec": {
   "display_name": "Python 3",
   "language": "python",
   "name": "python3"
  },
  "language_info": {
   "codemirror_mode": {
    "name": "ipython",
    "version": 3
   },
   "file_extension": ".py",
   "mimetype": "text/x-python",
   "name": "python",
   "nbconvert_exporter": "python",
   "pygments_lexer": "ipython3",
   "version": "3.7.4"
  }
 },
 "nbformat": 4,
 "nbformat_minor": 2
}
